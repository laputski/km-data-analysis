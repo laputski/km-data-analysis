{
 "cells": [
  {
   "cell_type": "markdown",
   "metadata": {},
   "source": [
    "## Python guides and courses"
   ]
  },
  {
   "cell_type": "markdown",
   "metadata": {},
   "source": [
    "- [Курс языка Python и базовых алгоритмов и структур данных](https://github.com/Yorko/python_intro)\n",
    "- [Exploratory computing with Python](http://mbakker7.github.io/exploratory_computing_with_python/)\n",
    "- [The Hitchhiker’s Guide to Python!](http://docs.python-guide.org/en/latest/)\n",
    "- [Google's Python Class](https://developers.google.com/edu/python/)\n",
    "- [Программирование на Python](https://compscicenter.ru/courses/python/2015-autumn/)\n",
    "- [Snakify](https://snakify.org/)\n",
    "- [Awesome Python](http://awesome-python.com/)\n",
    "- [Jupyter Notebook Users Manual](https://athena.brynmawr.edu/jupyter/hub/dblank/public/Jupyter%20Notebook%20Users%20Manual.ipynb)"
   ]
  },
  {
   "cell_type": "markdown",
   "metadata": {},
   "source": [
    "## Machine Learning"
   ]
  },
  {
   "cell_type": "markdown",
   "metadata": {},
   "source": [
    "- [**Лекции по машинному обучению (Воронцов)**](https://www.youtube.com/playlist?list=PLJOzdkh8T5kp99tGTEFjH_b9zqEQiiBtC)\n",
    "- [MachineLearning.ru](http://www.machinelearning.ru/wiki/index.php?title=%D0%97%D0%B0%D0%B3%D0%BB%D0%B0%D0%B2%D0%BD%D0%B0%D1%8F_%D1%81%D1%82%D1%80%D0%B0%D0%BD%D0%B8%D1%86%D0%B0)\n",
    "- [Machine Learning for Developers](http://xyclade.github.io/MachineLearning/)\n",
    "- [A Crash Course in Python for Scientists](http://nbviewer.jupyter.org/gist/rpmuller/5920182)\n",
    "- [Practical Data Science in Python](http://radimrehurek.com/data_science_python/)\n",
    "- [Deep learning at Oxford 2015](https://www.youtube.com/playlist?list=PLE6Wd9FR--EfW8dtjAuPoTuPcqmOV53Fu)\n",
    "- [Наглядное введение в теорию машинного обучения](http://www.r2d3.us/%D0%9D%D0%B0%D0%B3%D0%BB%D1%8F%D0%B4%D0%BD%D0%BE%D0%B5-%D0%92%D0%B2%D0%B5%D0%B4%D0%B5%D0%BD%D0%B8%D0%B5-%D0%B2-%D0%A2%D0%B5%D0%BE%D1%80%D0%B8%D1%8E-%D0%9C%D0%B0%D1%88%D0%B8%D0%BD%D0%BD%D0%BE%D0%B3%D0%BE-%D0%9E%D0%B1%D1%83%D1%87%D0%B5%D0%BD%D0%B8%D1%8F/)\n",
    "- [Подборка ресурсов по машинному обучению](https://github.com/demidovakatya/vvedenie-mashinnoe-obuchenie)"
   ]
  },
  {
   "cell_type": "markdown",
   "metadata": {},
   "source": [
    "## Libraries"
   ]
  },
  {
   "cell_type": "markdown",
   "metadata": {},
   "source": [
    "- [Введение в scikit-learn (Дьяконов)](https://github.com/Dyakonov/notebooks/blob/master/dj_sklearn_intro.ipynb)\n",
    "- [SciPy 2015 Scikit-learn Tutorial](https://github.com/amueller/scipy_2015_sklearn_tutorial)\n",
    "- [scikit-learn official User Guide](http://scikit-learn.org/stable/user_guide.html)\n",
    "\n",
    "\n",
    "- [Документация по NumPy и SciPy](http://docs.scipy.org/doc/)\n",
    "- [Scipy Lecture Notes](http://www.scipy-lectures.org/index.html)\n",
    "\n",
    "\n",
    "- [Документация по Pandas](http://pandas.pydata.org/pandas-docs/stable/tutorials.html)\n",
    "- [Учебный ноутбук по теме \"Пакет Pandas\" (Дьяконов)](https://github.com/Dyakonov/notebooks/blob/master/dj_pandas_tutoral.ipynb)\n",
    "- [Data Exploration using Pandas](https://drive.google.com/file/d/0B8JWjGrFNNkHdzJzVHlfODJQbFk/view)\n",
    "\n",
    "\n",
    "- [Документация по Matplotlib](http://matplotlib.org/)\n",
    "- [Matplotlib Tutorial](http://www.labri.fr/perso/nrougier/teaching/matplotlib/)\n",
    "- [Документация по Seaborn](http://stanford.edu/~mwaskom/software/seaborn/)"
   ]
  },
  {
   "cell_type": "markdown",
   "metadata": {},
   "source": [
    "## Datasets"
   ]
  },
  {
   "cell_type": "markdown",
   "metadata": {},
   "source": [
    "- [Awesome Public Datasets](https://github.com/caesar0301/awesome-public-datasets)\n",
    "- [UC Irvine Machine Learning Repository](http://archive.ics.uci.edu/ml/)\n",
    "- [Edinburgh University Datasets](http://www.inf.ed.ac.uk/teaching/courses/dme/html/datasets0405.html)\n",
    "- [Kaggle Datasets](https://www.kaggle.com/datasets)\n",
    "- [SOCR Data](http://wiki.stat.ucla.edu/socr/index.php/SOCR_Data)\n",
    "- [70+ websites to get large data repositories for free](http://bigdata-madesimple.com/70-websites-to-get-large-data-repositories-for-free/)\n",
    "- [Datasets for Data Mining and Data Science](http://www.kdnuggets.com/datasets/index.html)"
   ]
  },
  {
   "cell_type": "code",
   "execution_count": null,
   "metadata": {
    "collapsed": true
   },
   "outputs": [],
   "source": []
  }
 ],
 "metadata": {
  "anaconda-cloud": {},
  "kernelspec": {
   "display_name": "Python [Root]",
   "language": "python",
   "name": "Python [Root]"
  },
  "language_info": {
   "codemirror_mode": {
    "name": "ipython",
    "version": 2
   },
   "file_extension": ".py",
   "mimetype": "text/x-python",
   "name": "python",
   "nbconvert_exporter": "python",
   "pygments_lexer": "ipython2",
   "version": "2.7.12"
  }
 },
 "nbformat": 4,
 "nbformat_minor": 0
}
